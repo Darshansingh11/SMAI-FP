{
  "nbformat": 4,
  "nbformat_minor": 0,
  "metadata": {
    "colab": {
      "provenance": [],
      "authorship_tag": "ABX9TyOWDGNojlAue1pCJgYS532Z",
      "include_colab_link": true
    },
    "kernelspec": {
      "name": "python3",
      "display_name": "Python 3"
    },
    "language_info": {
      "name": "python"
    },
    "widgets": {
      "application/vnd.jupyter.widget-state+json": {
        "8ad8fada90c4400eb1100201575f7597": {
          "model_module": "@jupyter-widgets/controls",
          "model_name": "HBoxModel",
          "model_module_version": "1.5.0",
          "state": {
            "_dom_classes": [],
            "_model_module": "@jupyter-widgets/controls",
            "_model_module_version": "1.5.0",
            "_model_name": "HBoxModel",
            "_view_count": null,
            "_view_module": "@jupyter-widgets/controls",
            "_view_module_version": "1.5.0",
            "_view_name": "HBoxView",
            "box_style": "",
            "children": [
              "IPY_MODEL_1380768724784629bcd0d97dee9a932b",
              "IPY_MODEL_402196f4d08d4eccb01847145ee87a40",
              "IPY_MODEL_7abc23546456410bb3a61542459af6e3"
            ],
            "layout": "IPY_MODEL_b19346d48334492ca79fcd147f676868"
          }
        },
        "1380768724784629bcd0d97dee9a932b": {
          "model_module": "@jupyter-widgets/controls",
          "model_name": "HTMLModel",
          "model_module_version": "1.5.0",
          "state": {
            "_dom_classes": [],
            "_model_module": "@jupyter-widgets/controls",
            "_model_module_version": "1.5.0",
            "_model_name": "HTMLModel",
            "_view_count": null,
            "_view_module": "@jupyter-widgets/controls",
            "_view_module_version": "1.5.0",
            "_view_name": "HTMLView",
            "description": "",
            "description_tooltip": null,
            "layout": "IPY_MODEL_466b7e589c504f89b1b1b2b0d008f7ae",
            "placeholder": "​",
            "style": "IPY_MODEL_752a9871adf84f0ea341c6de21950eec",
            "value": "100%"
          }
        },
        "402196f4d08d4eccb01847145ee87a40": {
          "model_module": "@jupyter-widgets/controls",
          "model_name": "FloatProgressModel",
          "model_module_version": "1.5.0",
          "state": {
            "_dom_classes": [],
            "_model_module": "@jupyter-widgets/controls",
            "_model_module_version": "1.5.0",
            "_model_name": "FloatProgressModel",
            "_view_count": null,
            "_view_module": "@jupyter-widgets/controls",
            "_view_module_version": "1.5.0",
            "_view_name": "ProgressView",
            "bar_style": "success",
            "description": "",
            "description_tooltip": null,
            "layout": "IPY_MODEL_17fbb502c9144cf7bd2cc5f11eb3f708",
            "max": 244408911,
            "min": 0,
            "orientation": "horizontal",
            "style": "IPY_MODEL_115bcebc84cd4dd08aec07f0c14c3fd7",
            "value": 244408911
          }
        },
        "7abc23546456410bb3a61542459af6e3": {
          "model_module": "@jupyter-widgets/controls",
          "model_name": "HTMLModel",
          "model_module_version": "1.5.0",
          "state": {
            "_dom_classes": [],
            "_model_module": "@jupyter-widgets/controls",
            "_model_module_version": "1.5.0",
            "_model_name": "HTMLModel",
            "_view_count": null,
            "_view_module": "@jupyter-widgets/controls",
            "_view_module_version": "1.5.0",
            "_view_name": "HTMLView",
            "description": "",
            "description_tooltip": null,
            "layout": "IPY_MODEL_2df0faaab4974941b2d424667c1a8a4b",
            "placeholder": "​",
            "style": "IPY_MODEL_2234c3b25cf44c9dbe123561f05c104a",
            "value": " 233M/233M [00:06&lt;00:00, 40.5MB/s]"
          }
        },
        "b19346d48334492ca79fcd147f676868": {
          "model_module": "@jupyter-widgets/base",
          "model_name": "LayoutModel",
          "model_module_version": "1.2.0",
          "state": {
            "_model_module": "@jupyter-widgets/base",
            "_model_module_version": "1.2.0",
            "_model_name": "LayoutModel",
            "_view_count": null,
            "_view_module": "@jupyter-widgets/base",
            "_view_module_version": "1.2.0",
            "_view_name": "LayoutView",
            "align_content": null,
            "align_items": null,
            "align_self": null,
            "border": null,
            "bottom": null,
            "display": null,
            "flex": null,
            "flex_flow": null,
            "grid_area": null,
            "grid_auto_columns": null,
            "grid_auto_flow": null,
            "grid_auto_rows": null,
            "grid_column": null,
            "grid_gap": null,
            "grid_row": null,
            "grid_template_areas": null,
            "grid_template_columns": null,
            "grid_template_rows": null,
            "height": null,
            "justify_content": null,
            "justify_items": null,
            "left": null,
            "margin": null,
            "max_height": null,
            "max_width": null,
            "min_height": null,
            "min_width": null,
            "object_fit": null,
            "object_position": null,
            "order": null,
            "overflow": null,
            "overflow_x": null,
            "overflow_y": null,
            "padding": null,
            "right": null,
            "top": null,
            "visibility": null,
            "width": null
          }
        },
        "466b7e589c504f89b1b1b2b0d008f7ae": {
          "model_module": "@jupyter-widgets/base",
          "model_name": "LayoutModel",
          "model_module_version": "1.2.0",
          "state": {
            "_model_module": "@jupyter-widgets/base",
            "_model_module_version": "1.2.0",
            "_model_name": "LayoutModel",
            "_view_count": null,
            "_view_module": "@jupyter-widgets/base",
            "_view_module_version": "1.2.0",
            "_view_name": "LayoutView",
            "align_content": null,
            "align_items": null,
            "align_self": null,
            "border": null,
            "bottom": null,
            "display": null,
            "flex": null,
            "flex_flow": null,
            "grid_area": null,
            "grid_auto_columns": null,
            "grid_auto_flow": null,
            "grid_auto_rows": null,
            "grid_column": null,
            "grid_gap": null,
            "grid_row": null,
            "grid_template_areas": null,
            "grid_template_columns": null,
            "grid_template_rows": null,
            "height": null,
            "justify_content": null,
            "justify_items": null,
            "left": null,
            "margin": null,
            "max_height": null,
            "max_width": null,
            "min_height": null,
            "min_width": null,
            "object_fit": null,
            "object_position": null,
            "order": null,
            "overflow": null,
            "overflow_x": null,
            "overflow_y": null,
            "padding": null,
            "right": null,
            "top": null,
            "visibility": null,
            "width": null
          }
        },
        "752a9871adf84f0ea341c6de21950eec": {
          "model_module": "@jupyter-widgets/controls",
          "model_name": "DescriptionStyleModel",
          "model_module_version": "1.5.0",
          "state": {
            "_model_module": "@jupyter-widgets/controls",
            "_model_module_version": "1.5.0",
            "_model_name": "DescriptionStyleModel",
            "_view_count": null,
            "_view_module": "@jupyter-widgets/base",
            "_view_module_version": "1.2.0",
            "_view_name": "StyleView",
            "description_width": ""
          }
        },
        "17fbb502c9144cf7bd2cc5f11eb3f708": {
          "model_module": "@jupyter-widgets/base",
          "model_name": "LayoutModel",
          "model_module_version": "1.2.0",
          "state": {
            "_model_module": "@jupyter-widgets/base",
            "_model_module_version": "1.2.0",
            "_model_name": "LayoutModel",
            "_view_count": null,
            "_view_module": "@jupyter-widgets/base",
            "_view_module_version": "1.2.0",
            "_view_name": "LayoutView",
            "align_content": null,
            "align_items": null,
            "align_self": null,
            "border": null,
            "bottom": null,
            "display": null,
            "flex": null,
            "flex_flow": null,
            "grid_area": null,
            "grid_auto_columns": null,
            "grid_auto_flow": null,
            "grid_auto_rows": null,
            "grid_column": null,
            "grid_gap": null,
            "grid_row": null,
            "grid_template_areas": null,
            "grid_template_columns": null,
            "grid_template_rows": null,
            "height": null,
            "justify_content": null,
            "justify_items": null,
            "left": null,
            "margin": null,
            "max_height": null,
            "max_width": null,
            "min_height": null,
            "min_width": null,
            "object_fit": null,
            "object_position": null,
            "order": null,
            "overflow": null,
            "overflow_x": null,
            "overflow_y": null,
            "padding": null,
            "right": null,
            "top": null,
            "visibility": null,
            "width": null
          }
        },
        "115bcebc84cd4dd08aec07f0c14c3fd7": {
          "model_module": "@jupyter-widgets/controls",
          "model_name": "ProgressStyleModel",
          "model_module_version": "1.5.0",
          "state": {
            "_model_module": "@jupyter-widgets/controls",
            "_model_module_version": "1.5.0",
            "_model_name": "ProgressStyleModel",
            "_view_count": null,
            "_view_module": "@jupyter-widgets/base",
            "_view_module_version": "1.2.0",
            "_view_name": "StyleView",
            "bar_color": null,
            "description_width": ""
          }
        },
        "2df0faaab4974941b2d424667c1a8a4b": {
          "model_module": "@jupyter-widgets/base",
          "model_name": "LayoutModel",
          "model_module_version": "1.2.0",
          "state": {
            "_model_module": "@jupyter-widgets/base",
            "_model_module_version": "1.2.0",
            "_model_name": "LayoutModel",
            "_view_count": null,
            "_view_module": "@jupyter-widgets/base",
            "_view_module_version": "1.2.0",
            "_view_name": "LayoutView",
            "align_content": null,
            "align_items": null,
            "align_self": null,
            "border": null,
            "bottom": null,
            "display": null,
            "flex": null,
            "flex_flow": null,
            "grid_area": null,
            "grid_auto_columns": null,
            "grid_auto_flow": null,
            "grid_auto_rows": null,
            "grid_column": null,
            "grid_gap": null,
            "grid_row": null,
            "grid_template_areas": null,
            "grid_template_columns": null,
            "grid_template_rows": null,
            "height": null,
            "justify_content": null,
            "justify_items": null,
            "left": null,
            "margin": null,
            "max_height": null,
            "max_width": null,
            "min_height": null,
            "min_width": null,
            "object_fit": null,
            "object_position": null,
            "order": null,
            "overflow": null,
            "overflow_x": null,
            "overflow_y": null,
            "padding": null,
            "right": null,
            "top": null,
            "visibility": null,
            "width": null
          }
        },
        "2234c3b25cf44c9dbe123561f05c104a": {
          "model_module": "@jupyter-widgets/controls",
          "model_name": "DescriptionStyleModel",
          "model_module_version": "1.5.0",
          "state": {
            "_model_module": "@jupyter-widgets/controls",
            "_model_module_version": "1.5.0",
            "_model_name": "DescriptionStyleModel",
            "_view_count": null,
            "_view_module": "@jupyter-widgets/base",
            "_view_module_version": "1.2.0",
            "_view_name": "StyleView",
            "description_width": ""
          }
        }
      }
    }
  },
  "cells": [
    {
      "cell_type": "markdown",
      "metadata": {
        "id": "view-in-github",
        "colab_type": "text"
      },
      "source": [
        "<a href=\"https://colab.research.google.com/github/Darshansingh11/SMAI-FP/blob/main/Deconvolution.ipynb\" target=\"_parent\"><img src=\"https://colab.research.google.com/assets/colab-badge.svg\" alt=\"Open In Colab\"/></a>"
      ]
    },
    {
      "cell_type": "code",
      "source": [
        "import torch\n",
        "import torch.nn as nn\n",
        "import torch.nn.functional as F\n",
        "import torchvision.models as models\n",
        "from functools import partial\n",
        "import numpy as np\n",
        "import matplotlib.pyplot as plt\n",
        "from collections import OrderedDict"
      ],
      "metadata": {
        "id": "Sww54kffMMO3"
      },
      "execution_count": 1,
      "outputs": []
    },
    {
      "cell_type": "code",
      "source": [
        "from torchvision.transforms import transforms\n",
        "import cv2"
      ],
      "metadata": {
        "id": "wShSSdM1MRrZ"
      },
      "execution_count": 4,
      "outputs": []
    },
    {
      "cell_type": "code",
      "source": [
        "alex_net = models.alexnet(pretrained=True)"
      ],
      "metadata": {
        "colab": {
          "base_uri": "https://localhost:8080/",
          "height": 156,
          "referenced_widgets": [
            "8ad8fada90c4400eb1100201575f7597",
            "1380768724784629bcd0d97dee9a932b",
            "402196f4d08d4eccb01847145ee87a40",
            "7abc23546456410bb3a61542459af6e3",
            "b19346d48334492ca79fcd147f676868",
            "466b7e589c504f89b1b1b2b0d008f7ae",
            "752a9871adf84f0ea341c6de21950eec",
            "17fbb502c9144cf7bd2cc5f11eb3f708",
            "115bcebc84cd4dd08aec07f0c14c3fd7",
            "2df0faaab4974941b2d424667c1a8a4b",
            "2234c3b25cf44c9dbe123561f05c104a"
          ]
        },
        "id": "dBGc_b8yUngH",
        "outputId": "bd6bff69-4593-4cbb-dbf7-3665229771dc"
      },
      "execution_count": null,
      "outputs": [
        {
          "output_type": "stream",
          "name": "stderr",
          "text": [
            "/usr/local/lib/python3.8/dist-packages/torchvision/models/_utils.py:208: UserWarning: The parameter 'pretrained' is deprecated since 0.13 and will be removed in 0.15, please use 'weights' instead.\n",
            "  warnings.warn(\n",
            "/usr/local/lib/python3.8/dist-packages/torchvision/models/_utils.py:223: UserWarning: Arguments other than a weight enum or `None` for 'weights' are deprecated since 0.13 and will be removed in 0.15. The current behavior is equivalent to passing `weights=AlexNet_Weights.IMAGENET1K_V1`. You can also use `weights=AlexNet_Weights.DEFAULT` to get the most up-to-date weights.\n",
            "  warnings.warn(msg)\n",
            "Downloading: \"https://download.pytorch.org/models/alexnet-owt-7be5be79.pth\" to /root/.cache/torch/hub/checkpoints/alexnet-owt-7be5be79.pth\n"
          ]
        },
        {
          "output_type": "display_data",
          "data": {
            "text/plain": [
              "  0%|          | 0.00/233M [00:00<?, ?B/s]"
            ],
            "application/vnd.jupyter.widget-view+json": {
              "version_major": 2,
              "version_minor": 0,
              "model_id": "8ad8fada90c4400eb1100201575f7597"
            }
          },
          "metadata": {}
        }
      ]
    },
    {
      "cell_type": "code",
      "source": [
        "list(alex_net.features.children())[0].weight.shape"
      ],
      "metadata": {
        "colab": {
          "base_uri": "https://localhost:8080/"
        },
        "id": "O90dsYQmZB43",
        "outputId": "9fdf1125-bc2b-44e8-a3f7-b1243d7ea94c"
      },
      "execution_count": null,
      "outputs": [
        {
          "output_type": "execute_result",
          "data": {
            "text/plain": [
              "torch.Size([64, 3, 11, 11])"
            ]
          },
          "metadata": {},
          "execution_count": 4
        }
      ]
    },
    {
      "cell_type": "code",
      "source": [
        "list(alex_net.features.children())[0].weight.permute(0,1,3,2).shape"
      ],
      "metadata": {
        "colab": {
          "base_uri": "https://localhost:8080/"
        },
        "id": "ZlrKbza0Dr42",
        "outputId": "23bf326a-9d0e-4321-89e1-8556490f2c52"
      },
      "execution_count": null,
      "outputs": [
        {
          "output_type": "execute_result",
          "data": {
            "text/plain": [
              "torch.Size([64, 3, 11, 11])"
            ]
          },
          "metadata": {},
          "execution_count": 11
        }
      ]
    },
    {
      "cell_type": "code",
      "source": [
        "def get_layers(alex_net):\n",
        "    #alex_net = models.alexnet(pretrained=True)\n",
        "    layers = list(alex_net.features.children())\n",
        "\n",
        "    layer1 = nn.Sequential(*layers[:2], nn.MaxPool2d(kernel_size=3, stride=2, padding=0, dilation=1, ceil_mode=False, return_indices=True))\n",
        "    layer2 = nn.Sequential(*layers[3:6])\n",
        "    layer3 = nn.Sequential(*layers[6:8])\n",
        "    layer4 = nn.Sequential(*layers[8:10])\n",
        "    layer5 = nn.Sequential(*layers[10:13])\n",
        "\n",
        "    conv_layers = [layer1, layer2, layer3, layer4, layer5]\n",
        "\n",
        "    conv1_t = nn.ConvTranspose2d(64, 3, kernel_size=(11, 11), stride=(4, 4), padding=(2, 2))\n",
        "    conv2_t = nn.ConvTranspose2d(192, 64, kernel_size=(5, 5), stride=(1, 1), padding=(2, 2))\n",
        "    conv3_t = nn.ConvTranspose2d(384, 192, kernel_size=(3, 3), stride=(1, 1), padding=(1, 1))\n",
        "    conv4_t = nn.ConvTranspose2d(256, 384, kernel_size=(3, 3), stride=(1, 1), padding=(1, 1))\n",
        "    conv5_t = nn.ConvTranspose2d(256, 256, kernel_size=(3, 3), stride=(1, 1), padding=(1, 1))\n",
        "\n",
        "    conv_t_layers = [conv1_t, conv2_t, conv3_t, conv4_t, conv5_t]\n",
        "\n",
        "    conv_i = [0,3,6,8,10]\n",
        "    with torch.no_grad():\n",
        "        for i,conv_t in enumerate(conv_t_layers):\n",
        "            conv_t.weight = nn.Parameter(layers[conv_i[i]].weight.permute(0,1,3,2))\n",
        "            #conv_t.bias = nn.Parameter(layers[conv_i[i]].bias)\n",
        "\n",
        "    return conv_layers, conv_t_layers"
      ],
      "metadata": {
        "id": "N6JZS-q1ZdJm"
      },
      "execution_count": null,
      "outputs": []
    },
    {
      "cell_type": "code",
      "source": [
        "conv_layers, conv_t_layers = get_layers(alex_net)"
      ],
      "metadata": {
        "id": "nKRBc5wGH8g7"
      },
      "execution_count": null,
      "outputs": []
    },
    {
      "cell_type": "code",
      "source": [
        "img = torch.randn((1, 3, 256, 256))\n",
        "img.shape"
      ],
      "metadata": {
        "colab": {
          "base_uri": "https://localhost:8080/"
        },
        "id": "ZBh-t0kQICSg",
        "outputId": "20575e66-291c-4204-ed12-2e7d9e2786c5"
      },
      "execution_count": null,
      "outputs": [
        {
          "output_type": "execute_result",
          "data": {
            "text/plain": [
              "torch.Size([1, 3, 256, 256])"
            ]
          },
          "metadata": {},
          "execution_count": 5
        }
      ]
    },
    {
      "cell_type": "code",
      "source": [
        "out, pos = conv_layers[0](img)\n",
        "out.shape"
      ],
      "metadata": {
        "colab": {
          "base_uri": "https://localhost:8080/"
        },
        "id": "ztm-5KTLLYEE",
        "outputId": "c6e48943-feec-4cee-e2a9-c7a6aaa7dd52"
      },
      "execution_count": null,
      "outputs": [
        {
          "output_type": "execute_result",
          "data": {
            "text/plain": [
              "torch.Size([1, 64, 31, 31])"
            ]
          },
          "metadata": {},
          "execution_count": 6
        }
      ]
    },
    {
      "cell_type": "code",
      "source": [
        "pos.shape"
      ],
      "metadata": {
        "colab": {
          "base_uri": "https://localhost:8080/"
        },
        "id": "YcFdRs2_Lmqk",
        "outputId": "80002370-c66c-406f-cd07-29ce32f0ecfd"
      },
      "execution_count": null,
      "outputs": [
        {
          "output_type": "execute_result",
          "data": {
            "text/plain": [
              "torch.Size([1, 64, 31, 31])"
            ]
          },
          "metadata": {},
          "execution_count": 7
        }
      ]
    },
    {
      "cell_type": "code",
      "source": [
        "out[:,1,:,:].shape"
      ],
      "metadata": {
        "colab": {
          "base_uri": "https://localhost:8080/"
        },
        "id": "8X0FKqgxMwFi",
        "outputId": "a2b45b10-5ac9-4c19-fcef-df92f71fb757"
      },
      "execution_count": null,
      "outputs": [
        {
          "output_type": "execute_result",
          "data": {
            "text/plain": [
              "torch.Size([1, 31, 31])"
            ]
          },
          "metadata": {},
          "execution_count": 28
        }
      ]
    },
    {
      "cell_type": "code",
      "source": [
        "unpool = nn.MaxUnpool2d(kernel_size=3, stride=2, padding=0)"
      ],
      "metadata": {
        "id": "fnibLJpRWXLM"
      },
      "execution_count": null,
      "outputs": []
    },
    {
      "cell_type": "code",
      "source": [
        "o = unpool(out, pos)\n",
        "o.shape"
      ],
      "metadata": {
        "colab": {
          "base_uri": "https://localhost:8080/"
        },
        "id": "dqs6Gt88W_5y",
        "outputId": "eb83d794-c858-4aa0-f39f-81a41f632faf"
      },
      "execution_count": null,
      "outputs": [
        {
          "output_type": "execute_result",
          "data": {
            "text/plain": [
              "torch.Size([1, 64, 63, 63])"
            ]
          },
          "metadata": {},
          "execution_count": 9
        }
      ]
    },
    {
      "cell_type": "code",
      "source": [
        "o = F.relu(o)"
      ],
      "metadata": {
        "id": "E809ZCqoXQYf"
      },
      "execution_count": null,
      "outputs": []
    },
    {
      "cell_type": "code",
      "source": [
        "o = conv_t_layers[0](o)\n",
        "o.shape"
      ],
      "metadata": {
        "colab": {
          "base_uri": "https://localhost:8080/"
        },
        "id": "8uhSjSGUXwI6",
        "outputId": "3d927209-78d0-4a1f-f63c-63a47800bd4f"
      },
      "execution_count": null,
      "outputs": [
        {
          "output_type": "execute_result",
          "data": {
            "text/plain": [
              "torch.Size([1, 3, 255, 255])"
            ]
          },
          "metadata": {},
          "execution_count": 11
        }
      ]
    },
    {
      "cell_type": "code",
      "source": [
        "nn.ConvTranspose2d(64, 3, kernel_size=(11, 11), stride=(4, 4), padding=(2, 2)).weight.shape"
      ],
      "metadata": {
        "colab": {
          "base_uri": "https://localhost:8080/"
        },
        "id": "JhsfenT5X1qR",
        "outputId": "2738acb5-1b67-45bc-dbed-9e12b6a1845d"
      },
      "execution_count": null,
      "outputs": [
        {
          "output_type": "execute_result",
          "data": {
            "text/plain": [
              "torch.Size([64, 3, 11, 11])"
            ]
          },
          "metadata": {},
          "execution_count": 12
        }
      ]
    },
    {
      "cell_type": "code",
      "source": [
        "nn.ConvTranspose2d(64, 3, kernel_size=(11, 11), stride=(4, 4), padding=(2, 2)).bias.shape"
      ],
      "metadata": {
        "id": "RYo5Uks5aqNk",
        "colab": {
          "base_uri": "https://localhost:8080/"
        },
        "outputId": "89b492bc-3006-4498-b52e-acb282d4520f"
      },
      "execution_count": null,
      "outputs": [
        {
          "output_type": "execute_result",
          "data": {
            "text/plain": [
              "torch.Size([3])"
            ]
          },
          "metadata": {},
          "execution_count": 17
        }
      ]
    },
    {
      "cell_type": "code",
      "source": [
        "!git clone https://github.com/huybery/VisualizingCNN.git"
      ],
      "metadata": {
        "id": "e6WslX2NcX_u",
        "colab": {
          "base_uri": "https://localhost:8080/"
        },
        "outputId": "9475a805-b5e7-4ba9-a658-67be89d2bc05"
      },
      "execution_count": null,
      "outputs": [
        {
          "output_type": "stream",
          "name": "stdout",
          "text": [
            "Cloning into 'VisualizingCNN'...\n",
            "remote: Enumerating objects: 55, done.\u001b[K\n",
            "remote: Counting objects: 100% (8/8), done.\u001b[K\n",
            "remote: Compressing objects: 100% (5/5), done.\u001b[K\n",
            "remote: Total 55 (delta 3), reused 3 (delta 3), pack-reused 47\u001b[K\n",
            "Unpacking objects: 100% (55/55), done.\n"
          ]
        }
      ]
    },
    {
      "cell_type": "code",
      "source": [
        "%cd  /content/VisualizingCNN/"
      ],
      "metadata": {
        "colab": {
          "base_uri": "https://localhost:8080/"
        },
        "id": "1dKeQqF4Bq16",
        "outputId": "d6bb9d23-e000-478c-d6e7-d30d9a6a0439"
      },
      "execution_count": null,
      "outputs": [
        {
          "output_type": "stream",
          "name": "stdout",
          "text": [
            "/content/VisualizingCNN\n"
          ]
        }
      ]
    },
    {
      "cell_type": "code",
      "source": [
        "!python main.py"
      ],
      "metadata": {
        "colab": {
          "base_uri": "https://localhost:8080/"
        },
        "id": "zbPBVDonBHFK",
        "outputId": "3b0dbb8c-70e8-4067-c122-974dc62e0fee"
      },
      "execution_count": null,
      "outputs": [
        {
          "output_type": "stream",
          "name": "stdout",
          "text": [
            "/usr/local/lib/python3.8/dist-packages/torchvision/models/_utils.py:208: UserWarning: The parameter 'pretrained' is deprecated since 0.13 and will be removed in 0.15, please use 'weights' instead.\n",
            "  warnings.warn(\n",
            "/usr/local/lib/python3.8/dist-packages/torchvision/models/_utils.py:223: UserWarning: Arguments other than a weight enum or `None` for 'weights' are deprecated since 0.13 and will be removed in 0.15. The current behavior is equivalent to passing `weights=VGG16_Weights.IMAGENET1K_V1`. You can also use `weights=VGG16_Weights.DEFAULT` to get the most up-to-date weights.\n",
            "  warnings.warn(msg)\n",
            "Downloading: \"https://download.pytorch.org/models/vgg16-397923af.pth\" to /root/.cache/torch/hub/checkpoints/vgg16-397923af.pth\n",
            "100% 528M/528M [00:02<00:00, 228MB/s]\n",
            "Predicted: [('n02123045', 'tabby', 0.500922679901123), ('n02124075', 'Egyptian_cat', 0.28509995341300964), ('n02123159', 'tiger_cat', 0.2114189863204956)]\n",
            "tensor(82.6285, grad_fn=<MaxBackward1>)\n",
            "tensor(83.8370, grad_fn=<MaxBackward1>)\n",
            "tensor(63.2845, grad_fn=<MaxBackward1>)\n",
            "tensor(56.4456, grad_fn=<MaxBackward1>)\n",
            "tensor(49.1073, grad_fn=<MaxBackward1>)\n",
            "tensor(38.9342, grad_fn=<MaxBackward1>)\n",
            "tensor(29.5905, grad_fn=<MaxBackward1>)\n",
            "result picture has save at ./result.jpg\n"
          ]
        }
      ]
    },
    {
      "cell_type": "code",
      "source": [
        "list(alex_net.features.children())"
      ],
      "metadata": {
        "colab": {
          "base_uri": "https://localhost:8080/"
        },
        "id": "qi_mNDw2YpQj",
        "outputId": "39efb380-95ea-4e39-aac4-7cf344f45d95"
      },
      "execution_count": null,
      "outputs": [
        {
          "output_type": "execute_result",
          "data": {
            "text/plain": [
              "[Conv2d(3, 64, kernel_size=(11, 11), stride=(4, 4), padding=(2, 2)),\n",
              " ReLU(inplace=True),\n",
              " MaxPool2d(kernel_size=3, stride=2, padding=0, dilation=1, ceil_mode=False),\n",
              " Conv2d(64, 192, kernel_size=(5, 5), stride=(1, 1), padding=(2, 2)),\n",
              " ReLU(inplace=True),\n",
              " MaxPool2d(kernel_size=3, stride=2, padding=0, dilation=1, ceil_mode=False),\n",
              " Conv2d(192, 384, kernel_size=(3, 3), stride=(1, 1), padding=(1, 1)),\n",
              " ReLU(inplace=True),\n",
              " Conv2d(384, 256, kernel_size=(3, 3), stride=(1, 1), padding=(1, 1)),\n",
              " ReLU(inplace=True),\n",
              " Conv2d(256, 256, kernel_size=(3, 3), stride=(1, 1), padding=(1, 1)),\n",
              " ReLU(inplace=True),\n",
              " MaxPool2d(kernel_size=3, stride=2, padding=0, dilation=1, ceil_mode=False)]"
            ]
          },
          "metadata": {},
          "execution_count": 22
        }
      ]
    },
    {
      "cell_type": "code",
      "source": [
        "list(alex_net.classifier.children())"
      ],
      "metadata": {
        "colab": {
          "base_uri": "https://localhost:8080/"
        },
        "id": "JHeOCLxykzV0",
        "outputId": "caea74a3-6dc5-409d-f823-275bf8c5cfd3"
      },
      "execution_count": null,
      "outputs": [
        {
          "output_type": "execute_result",
          "data": {
            "text/plain": [
              "[Dropout(p=0.5, inplace=False),\n",
              " Linear(in_features=9216, out_features=4096, bias=True),\n",
              " ReLU(inplace=True),\n",
              " Dropout(p=0.5, inplace=False),\n",
              " Linear(in_features=4096, out_features=4096, bias=True),\n",
              " ReLU(inplace=True),\n",
              " Linear(in_features=4096, out_features=1000, bias=True)]"
            ]
          },
          "metadata": {},
          "execution_count": 3
        }
      ]
    },
    {
      "cell_type": "code",
      "source": [
        "class AlexNet(nn.Module):\n",
        "\n",
        "    def __init__(self):\n",
        "        super(AlexNet, self).__init__()\n",
        "\n",
        "        self.features = nn.Sequential(\n",
        "            nn.Conv2d(3, 64, kernel_size=(11, 11), stride=(4, 4), padding=(2, 2)), #0\n",
        "            nn.ReLU(inplace=True), #1\n",
        "            nn.MaxPool2d(kernel_size=3, stride=2, padding=0, dilation=1, ceil_mode=False, return_indices=True), #2\n",
        "            \n",
        "            nn.Conv2d(64, 192, kernel_size=(5, 5), stride=(1, 1), padding=(2, 2)), #3\n",
        "            nn.ReLU(inplace=True), #4\n",
        "            nn.MaxPool2d(kernel_size=3, stride=2, padding=0, dilation=1, ceil_mode=False, return_indices=True), #5\n",
        "            \n",
        "            nn.Conv2d(192, 384, kernel_size=(3, 3), stride=(1, 1), padding=(1, 1)), #6\n",
        "            nn.ReLU(inplace=True), #7\n",
        "            \n",
        "            nn.Conv2d(384, 256, kernel_size=(3, 3), stride=(1, 1), padding=(1, 1)), #8\n",
        "            nn.ReLU(inplace=True), #9\n",
        "            \n",
        "            nn.Conv2d(256, 256, kernel_size=(3, 3), stride=(1, 1), padding=(1, 1)), #10\n",
        "            nn.ReLU(inplace=True), #11\n",
        "            nn.MaxPool2d(kernel_size=3, stride=2, padding=0, dilation=1, ceil_mode=False, return_indices=True) #12\n",
        "        )\n",
        "\n",
        "        self.classifier = nn.Sequential(\n",
        "            nn.Dropout(p=0.5, inplace=False),\n",
        "            nn.Linear(in_features=9216, out_features=4096, bias=True),\n",
        "            nn.ReLU(inplace=True),\n",
        "            nn.Dropout(p=0.5, inplace=False),\n",
        "            nn.Linear(in_features=4096, out_features=4096, bias=True),\n",
        "            nn.ReLU(inplace=True),\n",
        "            nn.Linear(in_features=4096, out_features=1000, bias=True)\n",
        "        )\n",
        "\n",
        "        self.conv_i = [0,3,6,8,10]\n",
        "        \n",
        "\n",
        "        self.feature_maps = OrderedDict()\n",
        "        self.switches = OrderedDict()\n",
        "        self.init_weights()\n",
        "\n",
        "    def init_weights(self):\n",
        "    \n",
        "        alexnet_pretrained = models.alexnet(pretrained=True)\n",
        "        \n",
        "        for idx, layer in enumerate(alexnet_pretrained.features):\n",
        "            if isinstance(layer, nn.Conv2d):\n",
        "                self.features[idx].weight.data = layer.weight.data\n",
        "                self.features[idx].bias.data = layer.bias.data\n",
        "        \n",
        "        for idx, layer in enumerate(alexnet_pretrained.classifier):\n",
        "            if isinstance(layer, nn.Linear):\n",
        "                self.classifier[idx].weight.data = layer.weight.data\n",
        "                self.classifier[idx].bias.data = layer.bias.data\n",
        "\n",
        "    def forward(self, x):\n",
        "\n",
        "        for idx, layer in enumerate(self.features):\n",
        "            if isinstance(layer, nn.MaxPool2d):\n",
        "                x, location = layer(x)\n",
        "                # self.pool_locs[idx] = location\n",
        "            else:\n",
        "                x = layer(x)\n",
        "        \n",
        "        # reshape to (1, 512 * 7 * 7)\n",
        "        x = x.view(x.size()[0], -1)\n",
        "        output = self.classifier(x)\n",
        "        return output\n"
      ],
      "metadata": {
        "id": "BR3u7FG5FEnk"
      },
      "execution_count": 2,
      "outputs": []
    },
    {
      "cell_type": "code",
      "source": [
        "class AlexNetDeconv(nn.Module):\n",
        "\n",
        "    def __init__(self):\n",
        "        super(AlexNetDeconv, self).__init__()\n",
        "\n",
        "        self.features = nn.Sequential(\n",
        "            nn.MaxUnpool2d(kernel_size=3, stride=2, padding=0), #0\n",
        "            nn.ReLU(inplace=True), #1\n",
        "            nn.ConvTranspose2d(256, 256, kernel_size=(3, 3), stride=(1, 1), padding=(1, 1)), #2\n",
        "\n",
        "            nn.ReLU(inplace=True), #3\n",
        "            nn.ConvTranspose2d(256, 384, kernel_size=(3, 3), stride=(1, 1), padding=(1, 1)), #4\n",
        "\n",
        "            nn.ReLU(inplace=True), #5\n",
        "            nn.ConvTranspose2d(384, 192, kernel_size=(3, 3), stride=(1, 1), padding=(1, 1)), #6\n",
        "\n",
        "            nn.MaxUnpool2d(kernel_size=3, stride=2, padding=0), #7\n",
        "            nn.ReLU(inplace=True), #8\n",
        "            nn.ConvTranspose2d(192, 64, kernel_size=(5, 5), stride=(1, 1), padding=(2, 2)), #9\n",
        "\n",
        "            nn.MaxUnpool2d(kernel_size=3, stride=2, padding=0), #10\n",
        "            nn.ReLU(inplace=True), #11\n",
        "            nn.ConvTranspose2d(64, 3, kernel_size=(11, 11), stride=(4, 4), padding=(2, 2)) #12\n",
        "\n",
        "        )\n",
        "\n",
        "        self.layer_mapping = {5:0, 4:3, 3:5, 2:7, 1:10}\n",
        "\n",
        "        self.unpool2pool_indices = {0:12, 7:5, 10:2}\n",
        "        self.conv2deconv_indices = {0:12, 3:9, 6:6, 8:4, 10:2}\n",
        "\n",
        "        self.init_weights()\n",
        "\n",
        "    def init_weights(self):\n",
        "        alexnet_pretrained = models.alexnet(pretrained=True)\n",
        "        for idx, layer in enumerate(alexnet_pretrained.features):\n",
        "            if isinstance(layer, nn.Conv2d):\n",
        "                self.features[self.conv2deconv_indices[idx]].weight.data = layer.weight.data\n",
        "                #self.features[self.conv2deconv_indices[idx]].bias.data\\\n",
        "                # = layer.bias.data\n",
        "\n",
        "    def forward(self, x, layer, activation_idx, switches):\n",
        "        # if layer in self.conv2deconv_indices:\n",
        "        #     start_idx = self.conv2deconv_indices[layer]\n",
        "        # else:\n",
        "        #     raise ValueError('layer is not a conv feature map')\n",
        "        start_idx = self.layer_mapping[layer]\n",
        "        for idx in range(start_idx, len(self.features)):\n",
        "            if isinstance(self.features[idx], nn.MaxUnpool2d):\n",
        "                print(idx, x.shape,switches[self.unpool2pool_indices[idx]].shape)\n",
        "                x = self.features[idx](x, switches[self.unpool2pool_indices[idx]])\n",
        "            else:\n",
        "                print(idx, x.shape)\n",
        "                x = self.features[idx](x)\n",
        "        return x\n",
        "    "
      ],
      "metadata": {
        "id": "VAurNDP0zyvx"
      },
      "execution_count": 33,
      "outputs": []
    },
    {
      "cell_type": "code",
      "source": [
        "def load_images(img_path):\n",
        "\n",
        "    img = cv2.imread(img_path)\n",
        "    img = cv2.resize(img, (224, 224))\n",
        "    plt.imshow(img)\n",
        "\n",
        "    transform = transforms.Compose([\n",
        "        transforms.ToTensor(),\n",
        "        transforms.Normalize(mean=[0.485, 0.456, 0.406],std=[0.229, 0.224, 0.225])\n",
        "        ])\n",
        "    \n",
        "    img = transform(img)\n",
        "    img.unsqueeze_(0)\n",
        "    return img"
      ],
      "metadata": {
        "id": "krUlxSbmEqEO"
      },
      "execution_count": 57,
      "outputs": []
    },
    {
      "cell_type": "code",
      "source": [
        "def store(model):\n",
        "    def hook(module, input, output, key):\n",
        "        if isinstance(module, nn.MaxPool2d):\n",
        "           model.feature_maps[key] = output[0]\n",
        "           model.switches[key] = output[1]\n",
        "        else:\n",
        "           model.feature_maps[key] = output\n",
        "    \n",
        "    for idx, layer in enumerate(model._modules.get('features')):    \n",
        "        # _modules returns an OrderedDict\n",
        "        layer.register_forward_hook(partial(hook, key=idx))"
      ],
      "metadata": {
        "id": "lNSVXrB7FPrS"
      },
      "execution_count": 6,
      "outputs": []
    },
    {
      "cell_type": "code",
      "source": [
        "def visualize_layer(layer_num, conv, deconv):\n",
        "    layer_mapping = {5:12, 4:9, 3:7, 2:5, 1:2}\n",
        "    layer = layer_mapping[layer_num]\n",
        "\n",
        "    num_feat = conv.feature_maps[layer].shape[1]\n",
        "    \n",
        "    # set other feature map activations to zero\n",
        "    new_feat_map = conv.feature_maps[layer].clone()\n",
        "\n",
        "    # choose the max activations map\n",
        "    act_lst = []\n",
        "    for i in range(0, num_feat):\n",
        "        choose_map = new_feat_map[0, i, :, :]\n",
        "        activation = torch.max(choose_map)\n",
        "        act_lst.append(activation.item())\n",
        "\n",
        "    act_lst = np.array(act_lst)\n",
        "    mark = np.argmax(act_lst)\n",
        "\n",
        "    choose_map = new_feat_map[0, mark, :, :]\n",
        "    max_activation = torch.max(choose_map)\n",
        "    \n",
        "    # make zeros for other feature maps\n",
        "    if mark == 0:\n",
        "        new_feat_map[:, 1:, :, :] = 0\n",
        "    else:\n",
        "        new_feat_map[:, :mark, :, :] = 0\n",
        "        if mark != conv.feature_maps[layer].shape[1] - 1:\n",
        "            new_feat_map[:, mark + 1:, :, :] = 0\n",
        "    \n",
        "    choose_map = torch.where(choose_map==max_activation,\n",
        "            choose_map,\n",
        "            torch.zeros(choose_map.shape)\n",
        "            )\n",
        "\n",
        "    # make zeros for ther activations\n",
        "    new_feat_map[0, mark, :, :] = choose_map\n",
        "    \n",
        "    # print(torch.max(new_feat_map[0, mark, :, :]))    \n",
        "    print(max_activation)\n",
        "    print(\"input activation\", new_feat_map.shape)\n",
        "    deconv_output = deconv(new_feat_map, layer_num, mark, conv.switches)\n",
        "\n",
        "    new_img = deconv_output.data.numpy()[0].transpose(1, 2, 0)  # (H, W, C)\n",
        "    # normalize\n",
        "    new_img = (new_img - new_img.min()) / (new_img.max() - new_img.min()) * 255\n",
        "    new_img = new_img.astype(np.uint8)\n",
        "    # cv2.imshow('reconstruction img ' + str(layer), new_img)\n",
        "    # cv2.waitKey()\n",
        "    return new_img, int(max_activation)"
      ],
      "metadata": {
        "id": "hAskkiJhHA0j"
      },
      "execution_count": 19,
      "outputs": []
    },
    {
      "cell_type": "code",
      "source": [
        "a = torch.tensor([[1, 3],[6, 5]])"
      ],
      "metadata": {
        "id": "CxIpvMPtGHZz"
      },
      "execution_count": null,
      "outputs": []
    },
    {
      "cell_type": "code",
      "source": [
        "torch.argmax(a, keepdim=True)"
      ],
      "metadata": {
        "colab": {
          "base_uri": "https://localhost:8080/"
        },
        "id": "OMvHDpldGSK_",
        "outputId": "e42da141-2ff3-4224-eda9-0b9e6e9f3148"
      },
      "execution_count": null,
      "outputs": [
        {
          "output_type": "execute_result",
          "data": {
            "text/plain": [
              "tensor([[2]])"
            ]
          },
          "metadata": {},
          "execution_count": 5
        }
      ]
    },
    {
      "cell_type": "code",
      "source": [
        "img = load_images('/content/cat.jpg')"
      ],
      "metadata": {
        "id": "Kf5mkqVGKsTo",
        "colab": {
          "base_uri": "https://localhost:8080/",
          "height": 269
        },
        "outputId": "6300c3ed-3c1d-4da9-9d8f-223c6bc34c06"
      },
      "execution_count": 58,
      "outputs": [
        {
          "output_type": "display_data",
          "data": {
            "text/plain": [
              "<Figure size 432x288 with 1 Axes>"
            ],
            "image/png": "[encoded data removed]"
          },
          "metadata": {
            "needs_background": "light"
          }
        }
      ]
    },
    {
      "cell_type": "code",
      "source": [
        "conv = AlexNet()\n",
        "conv.eval()\n",
        "store(conv)"
      ],
      "metadata": {
        "id": "JOW8NtghLJR2"
      },
      "execution_count": 34,
      "outputs": []
    },
    {
      "cell_type": "code",
      "source": [
        "conv_out = conv(img)\n",
        "switches = conv.switches"
      ],
      "metadata": {
        "id": "AkT-9tDSLZst"
      },
      "execution_count": 52,
      "outputs": []
    },
    {
      "cell_type": "code",
      "source": [
        "deconv = AlexNetDeconv()\n",
        "deconv.eval()"
      ],
      "metadata": {
        "colab": {
          "base_uri": "https://localhost:8080/"
        },
        "id": "ZFUfgfa_Lrkp",
        "outputId": "1bc60dd7-3d93-4962-8823-00d78e6bffd5"
      },
      "execution_count": 38,
      "outputs": [
        {
          "output_type": "execute_result",
          "data": {
            "text/plain": [
              "AlexNetDeconv(\n",
              "  (features): Sequential(\n",
              "    (0): MaxUnpool2d(kernel_size=(3, 3), stride=(2, 2), padding=(0, 0))\n",
              "    (1): ReLU(inplace=True)\n",
              "    (2): ConvTranspose2d(256, 256, kernel_size=(3, 3), stride=(1, 1), padding=(1, 1))\n",
              "    (3): ReLU(inplace=True)\n",
              "    (4): ConvTranspose2d(256, 384, kernel_size=(3, 3), stride=(1, 1), padding=(1, 1))\n",
              "    (5): ReLU(inplace=True)\n",
              "    (6): ConvTranspose2d(384, 192, kernel_size=(3, 3), stride=(1, 1), padding=(1, 1))\n",
              "    (7): MaxUnpool2d(kernel_size=(3, 3), stride=(2, 2), padding=(0, 0))\n",
              "    (8): ReLU(inplace=True)\n",
              "    (9): ConvTranspose2d(192, 64, kernel_size=(5, 5), stride=(1, 1), padding=(2, 2))\n",
              "    (10): MaxUnpool2d(kernel_size=(3, 3), stride=(2, 2), padding=(0, 0))\n",
              "    (11): ReLU(inplace=True)\n",
              "    (12): ConvTranspose2d(64, 3, kernel_size=(11, 11), stride=(4, 4), padding=(2, 2))\n",
              "  )\n",
              ")"
            ]
          },
          "metadata": {},
          "execution_count": 38
        }
      ]
    },
    {
      "cell_type": "code",
      "source": [
        "img, activation = visualize_layer(5, conv, deconv)"
      ],
      "metadata": {
        "colab": {
          "base_uri": "https://localhost:8080/"
        },
        "id": "Q9STymCfL4G-",
        "outputId": "58c9dd0c-e2b6-41a6-c782-0e8ee00935cb"
      },
      "execution_count": 53,
      "outputs": [
        {
          "output_type": "stream",
          "name": "stdout",
          "text": [
            "tensor(25.1274, grad_fn=<MaxBackward1>)\n",
            "input activation torch.Size([1, 256, 6, 6])\n",
            "0 torch.Size([1, 256, 6, 6]) torch.Size([1, 256, 6, 6])\n",
            "1 torch.Size([1, 256, 13, 13])\n",
            "2 torch.Size([1, 256, 13, 13])\n",
            "3 torch.Size([1, 256, 13, 13])\n",
            "4 torch.Size([1, 256, 13, 13])\n",
            "5 torch.Size([1, 384, 13, 13])\n",
            "6 torch.Size([1, 384, 13, 13])\n",
            "7 torch.Size([1, 192, 13, 13]) torch.Size([1, 192, 13, 13])\n",
            "8 torch.Size([1, 192, 27, 27])\n",
            "9 torch.Size([1, 192, 27, 27])\n",
            "10 torch.Size([1, 64, 27, 27]) torch.Size([1, 64, 27, 27])\n",
            "11 torch.Size([1, 64, 55, 55])\n",
            "12 torch.Size([1, 64, 55, 55])\n"
          ]
        }
      ]
    },
    {
      "cell_type": "code",
      "source": [
        "for i in [2,5,12]:\n",
        "    print(i, conv.switches[i].shape)"
      ],
      "metadata": {
        "colab": {
          "base_uri": "https://localhost:8080/"
        },
        "id": "ToEBN7OvgoXs",
        "outputId": "8208e8b0-97a2-4016-afa7-0c9d29d83009"
      },
      "execution_count": 40,
      "outputs": [
        {
          "output_type": "stream",
          "name": "stdout",
          "text": [
            "2 torch.Size([1, 64, 27, 27])\n",
            "5 torch.Size([1, 192, 13, 13])\n",
            "12 torch.Size([1, 256, 6, 6])\n"
          ]
        }
      ]
    },
    {
      "cell_type": "code",
      "source": [
        "for i in range(13):\n",
        "    print(i, conv.feature_maps[i].shape)"
      ],
      "metadata": {
        "colab": {
          "base_uri": "https://localhost:8080/"
        },
        "id": "5nBpYchzSkt3",
        "outputId": "03b346d4-e6a7-43b2-8f2b-80b729235e72"
      },
      "execution_count": 41,
      "outputs": [
        {
          "output_type": "stream",
          "name": "stdout",
          "text": [
            "0 torch.Size([1, 64, 55, 55])\n",
            "1 torch.Size([1, 64, 55, 55])\n",
            "2 torch.Size([1, 64, 27, 27])\n",
            "3 torch.Size([1, 192, 27, 27])\n",
            "4 torch.Size([1, 192, 27, 27])\n",
            "5 torch.Size([1, 192, 13, 13])\n",
            "6 torch.Size([1, 384, 13, 13])\n",
            "7 torch.Size([1, 384, 13, 13])\n",
            "8 torch.Size([1, 256, 13, 13])\n",
            "9 torch.Size([1, 256, 13, 13])\n",
            "10 torch.Size([1, 256, 13, 13])\n",
            "11 torch.Size([1, 256, 13, 13])\n",
            "12 torch.Size([1, 256, 6, 6])\n"
          ]
        }
      ]
    },
    {
      "cell_type": "code",
      "source": [
        "conv.switches[2].shape"
      ],
      "metadata": {
        "colab": {
          "base_uri": "https://localhost:8080/"
        },
        "id": "DEMNECLKTFZv",
        "outputId": "2daf3fb8-9a18-4049-f50e-7882308b5276"
      },
      "execution_count": 42,
      "outputs": [
        {
          "output_type": "execute_result",
          "data": {
            "text/plain": [
              "torch.Size([1, 64, 27, 27])"
            ]
          },
          "metadata": {},
          "execution_count": 42
        }
      ]
    },
    {
      "cell_type": "code",
      "source": [
        "plt.imshow(img)"
      ],
      "metadata": {
        "colab": {
          "base_uri": "https://localhost:8080/",
          "height": 286
        },
        "id": "h0BXbCGeQmhK",
        "outputId": "5aefaea8-88ce-4a71-828f-c8b4290e244c"
      },
      "execution_count": 54,
      "outputs": [
        {
          "output_type": "execute_result",
          "data": {
            "text/plain": [
              "<matplotlib.image.AxesImage at 0x7f976ece3d90>"
            ]
          },
          "metadata": {},
          "execution_count": 54
        },
        {
          "output_type": "display_data",
          "data": {
            "text/plain": [
              "<Figure size 432x288 with 1 Axes>"
            ],
            "image/png": "[encoded data removed]"
          },
          "metadata": {
            "needs_background": "light"
          }
        }
      ]
    }
  ]
}